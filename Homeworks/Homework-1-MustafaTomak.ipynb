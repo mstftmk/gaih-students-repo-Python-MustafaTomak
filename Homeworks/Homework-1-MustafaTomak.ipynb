{
 "cells": [
  {
   "cell_type": "markdown",
   "id": "flexible-allah",
   "metadata": {},
   "source": [
    "## Homework-1 \n",
    "\n",
    "* 1- Create a List and swap the second half of the list with the first half of the list and print the list on the screen.\n",
    "* 2- Ask the user to input a single digit integer to a variable 'n'. Then, print out all of the even numbers from 0 to n.(including n)"
   ]
  },
  {
   "cell_type": "markdown",
   "id": "optional-violence",
   "metadata": {},
   "source": [
    "### 1.Soru"
   ]
  },
  {
   "cell_type": "code",
   "execution_count": 1,
   "id": "monetary-rebound",
   "metadata": {},
   "outputs": [
    {
     "data": {
      "text/plain": [
       "[0, 1, 2, 3, 4, 5, 6, 7, 8, 9]"
      ]
     },
     "execution_count": 1,
     "metadata": {},
     "output_type": "execute_result"
    }
   ],
   "source": [
    "my_list = [0,1,2,3,4,5,6,7,8,9]\n",
    "\n",
    "liste_yarisi = len(my_list)//2\n",
    "\n",
    "ilk_yari = my_list[:liste_yarisi]\n",
    "ikinci_yari = my_list[liste_yarisi:]\n",
    "\n",
    "my_list #orjinal liste"
   ]
  },
  {
   "cell_type": "code",
   "execution_count": 2,
   "id": "unsigned-ghost",
   "metadata": {},
   "outputs": [
    {
     "data": {
      "text/plain": [
       "[0, 1, 2, 3, 4]"
      ]
     },
     "execution_count": 2,
     "metadata": {},
     "output_type": "execute_result"
    }
   ],
   "source": [
    "ilk_yari"
   ]
  },
  {
   "cell_type": "code",
   "execution_count": 3,
   "id": "organized-punch",
   "metadata": {},
   "outputs": [
    {
     "data": {
      "text/plain": [
       "[5, 6, 7, 8, 9]"
      ]
     },
     "execution_count": 3,
     "metadata": {},
     "output_type": "execute_result"
    }
   ],
   "source": [
    "ikinci_yari"
   ]
  },
  {
   "cell_type": "code",
   "execution_count": 4,
   "id": "welcome-bench",
   "metadata": {},
   "outputs": [
    {
     "data": {
      "text/plain": [
       "[5, 6, 7, 8, 9, 0, 1, 2, 3, 4]"
      ]
     },
     "execution_count": 4,
     "metadata": {},
     "output_type": "execute_result"
    }
   ],
   "source": [
    "my_list = ikinci_yari + ilk_yari\n",
    "my_list #düzenlenmiş liste"
   ]
  },
  {
   "cell_type": "markdown",
   "id": "cathedral-thompson",
   "metadata": {},
   "source": [
    "### 2.Soru"
   ]
  },
  {
   "cell_type": "code",
   "execution_count": 5,
   "id": "mysterious-equity",
   "metadata": {},
   "outputs": [
    {
     "name": "stdin",
     "output_type": "stream",
     "text": [
      "Lütfen tek basamaklı bir sayı giriniz:  8\n"
     ]
    },
    {
     "data": {
      "text/plain": [
       "[0, 2, 4, 6, 8]"
      ]
     },
     "execution_count": 5,
     "metadata": {},
     "output_type": "execute_result"
    }
   ],
   "source": [
    "cift_sayilar = []\n",
    "n = int(input(\"Lütfen tek basamaklı bir sayı giriniz: \"))\n",
    "\n",
    "if len(str(n)) == 1: #Tek basamaklı bir sayı mı girilmiş onu kontrol ediyor.\n",
    "    for i in range(n+1): #Öyle ise, n+1 ile girilen sayıyı da dahil ederek devam ediyor.\n",
    "        if i%2 == 0: #Bu range'de çift sayıları buluyor ve listeye ekliyor.\n",
    "            cift_sayilar.append(i)\n",
    "\n",
    "else:\n",
    "    print(\"Tek basakmaklı bir sayı değil..\")\n",
    "\n",
    "cift_sayilar"
   ]
  },
  {
   "cell_type": "code",
   "execution_count": null,
   "id": "graduate-tucson",
   "metadata": {},
   "outputs": [],
   "source": []
  }
 ],
 "metadata": {
  "kernelspec": {
   "display_name": "Python 3",
   "language": "python",
   "name": "python3"
  },
  "language_info": {
   "codemirror_mode": {
    "name": "ipython",
    "version": 3
   },
   "file_extension": ".py",
   "mimetype": "text/x-python",
   "name": "python",
   "nbconvert_exporter": "python",
   "pygments_lexer": "ipython3",
   "version": "3.7.4"
  }
 },
 "nbformat": 4,
 "nbformat_minor": 5
}
