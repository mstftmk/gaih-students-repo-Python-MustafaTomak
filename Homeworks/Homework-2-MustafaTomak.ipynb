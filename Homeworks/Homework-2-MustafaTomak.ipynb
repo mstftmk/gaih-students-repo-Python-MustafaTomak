{
 "cells": [
  {
   "cell_type": "markdown",
   "id": "humanitarian-louisville",
   "metadata": {},
   "source": [
    "## Homework-2 User Login Application(Dictionary ile)\n",
    "\n",
    "* Get username and password values from the user.\n",
    "* Check the values in an if statement and tell the user if they were successful.\n",
    "\n",
    "Extra:\n",
    "* Try building the same user login application but this time, use a dictionary!"
   ]
  },
  {
   "cell_type": "code",
   "execution_count": 1,
   "id": "hazardous-drain",
   "metadata": {},
   "outputs": [
    {
     "name": "stdin",
     "output_type": "stream",
     "text": [
      "Lütfen isminizi girin:  Mustafa\n",
      "Lütfen şifrenizi girin:  1869\n"
     ]
    },
    {
     "name": "stdout",
     "output_type": "stream",
     "text": [
      "Kontrol ediliyor. . . . . . . . . . . Şifre doğru..\n",
      "Hoşgeldin Mustafa!\n"
     ]
    }
   ],
   "source": [
    "import time\n",
    "\n",
    "bilgiler = {\n",
    "    \"Mustafa\" : \"1869\",\n",
    "    \"Erdogan\" : \"2829\",\n",
    "    \"Gizem\" : \"6427\",\n",
    "    \"Merve\" : \"4403\"\n",
    "}\n",
    "\n",
    "kullanici_ad = input(\"Lütfen isminizi girin: \")\n",
    "\n",
    "if kullanici_ad in bilgiler: #Bilgiler dict.'de böyle bir kullanıcı var mı onu kontrol ediyor.\n",
    "                             # Böyle bir kullanıcı varsa devam ediyor.\n",
    "    sifre = input(\"Lütfen şifrenizi girin: \")\n",
    "    print(\"Kontrol ediliyor. \", end=\"\")\n",
    "    for a in range(10):\n",
    "        time.sleep(.2)\n",
    "        print(\".\", end=\" \")\n",
    "        \n",
    "    if sifre == bilgiler[kullanici_ad]: #Şifre doğru ise buradan devam ediyor.\n",
    "        print(\"Şifre doğru..\")\n",
    "        print(\"Hoşgeldin \" + kullanici_ad + \"!\")\n",
    "    else:\n",
    "        print(\"Şifre yanlış..\")\n",
    "        \n",
    "else: #Bilgiler dict.'de bu isimde bir kullanıcı yoksa bu kısımdan devam ediyor.\n",
    "    print(\"Böyle bir kullancı bulunamadı.\")"
   ]
  },
  {
   "cell_type": "code",
   "execution_count": null,
   "id": "yellow-invite",
   "metadata": {},
   "outputs": [],
   "source": []
  }
 ],
 "metadata": {
  "kernelspec": {
   "display_name": "Python 3",
   "language": "python",
   "name": "python3"
  },
  "language_info": {
   "codemirror_mode": {
    "name": "ipython",
    "version": 3
   },
   "file_extension": ".py",
   "mimetype": "text/x-python",
   "name": "python",
   "nbconvert_exporter": "python",
   "pygments_lexer": "ipython3",
   "version": "3.7.4"
  }
 },
 "nbformat": 4,
 "nbformat_minor": 5
}
