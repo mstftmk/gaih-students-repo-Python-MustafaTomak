{
 "cells": [
  {
   "cell_type": "markdown",
   "id": "brazilian-increase",
   "metadata": {},
   "source": [
    "## Homework-3 Course Grade Application\n",
    "\n",
    "* Create 5 students. Ask these students from the user.\n",
    "* Each of students should have a midterm grade, project grade, final grade.\n",
    "* Each student will have a course passing grade.\n",
    "* passingGrade = midterm * (0.3) + project * (0.3) + final * (0.4) passing grade should be determined like this.\n",
    "* Create a dictionary that keeps these students information.\n",
    "* Calculate the students grades and transfer them to the list with the help of indexing.\n",
    "* Finally, set the students with the highest grade to be in the first index and the student with the lowest grade to be in the last index of the list."
   ]
  },
  {
   "cell_type": "code",
   "execution_count": 2,
   "id": "compliant-natural",
   "metadata": {},
   "outputs": [
    {
     "name": "stdout",
     "output_type": "stream",
     "text": [
      "\n",
      "***** 1. Öğrenci *****\n"
     ]
    },
    {
     "name": "stdin",
     "output_type": "stream",
     "text": [
      "Öğrenci adı girin:  Gizem\n",
      "Midterm notu girin:  85\n",
      "Proje notu girin:  80\n",
      "Final notu girin:  85\n"
     ]
    },
    {
     "name": "stdout",
     "output_type": "stream",
     "text": [
      "*****************************\n",
      "\n",
      "***** 2. Öğrenci *****\n"
     ]
    },
    {
     "name": "stdin",
     "output_type": "stream",
     "text": [
      "Öğrenci adı girin:  Merve\n",
      "Midterm notu girin:  70\n",
      "Proje notu girin:  80\n",
      "Final notu girin:  90\n"
     ]
    },
    {
     "name": "stdout",
     "output_type": "stream",
     "text": [
      "*****************************\n",
      "\n",
      "***** 3. Öğrenci *****\n"
     ]
    },
    {
     "name": "stdin",
     "output_type": "stream",
     "text": [
      "Öğrenci adı girin:  Irem\n",
      "Midterm notu girin:  90\n",
      "Proje notu girin:  60\n",
      "Final notu girin:  75\n"
     ]
    },
    {
     "name": "stdout",
     "output_type": "stream",
     "text": [
      "*****************************\n",
      "\n",
      "***** 4. Öğrenci *****\n"
     ]
    },
    {
     "name": "stdin",
     "output_type": "stream",
     "text": [
      "Öğrenci adı girin:  Mustafa\n",
      "Midterm notu girin:  90\n",
      "Proje notu girin:  100\n",
      "Final notu girin:  95\n"
     ]
    },
    {
     "name": "stdout",
     "output_type": "stream",
     "text": [
      "*****************************\n",
      "\n",
      "***** 5. Öğrenci *****\n"
     ]
    },
    {
     "name": "stdin",
     "output_type": "stream",
     "text": [
      "Öğrenci adı girin:  Erdogan\n",
      "Midterm notu girin:  100\n",
      "Proje notu girin:  90\n",
      "Final notu girin:  90\n"
     ]
    },
    {
     "name": "stdout",
     "output_type": "stream",
     "text": [
      "*****************************\n",
      "{'Gizem': [85, 80, 85, 83.5], 'Merve': [70, 80, 90, 81.0], 'Irem': [90, 60, 75, 75.0], 'Mustafa': [90, 100, 95, 95.0], 'Erdogan': [100, 90, 90, 93.0]}\n"
     ]
    }
   ],
   "source": [
    "ogrenciler_notlar = {}\n",
    "ogrenci_sayi = 0 \n",
    "\n",
    "#Neden While? Çünkü for _ in range(5) deseydim, kullanıcı not kısmına hatalı giriş yaptığında, \n",
    "#tekrar başa dönecekti ve saymaya devam edecekti. Sonuçta bir yanlış olduğunda, 4 öğrenci olmuş olacaktı.\n",
    "#Bu sayaç ile yanlış not girilse bile, o öğrenci sayısı sayılmayacak ve sonuçta 5 öğrenci oluşturulmuş olacak.\n",
    "            \n",
    "while ogrenci_sayi < 5:\n",
    "    notlar = []\n",
    "    print(\"\\n***** \" + str(ogrenci_sayi + 1) + \". Öğrenci *****\" )\n",
    "    ogrenci = input(\"Öğrenci adı girin: \")\n",
    "    try:\n",
    "        midterm = int(input(\"Midterm notu girin: \"))\n",
    "        if (midterm >= 0 and midterm <= 100): # bu kısım, 0-100 aralığında not girilmezse, o öğrenci kaydını saymıyor,\n",
    "            notlar.append(midterm)            # ve kaldığı öğrenci sayısından tekrar başlatıyor.\n",
    "        else:\n",
    "            print(\"Lütfen 0-100 aralığında, geçerli bir not girin.\")\n",
    "            continue\n",
    "        \n",
    "        proje = int(input(\"Proje notu girin: \"))\n",
    "        if (proje >= 0 and proje <= 100):\n",
    "            notlar.append(proje)\n",
    "        else:\n",
    "            print(\"Lütfen 0-100 aralığında, geçerli bir not girin.\")\n",
    "            continue\n",
    "            \n",
    "        final = int(input(\"Final notu girin: \"))\n",
    "        if (final >= 0 and final <= 100):\n",
    "            notlar.append(final)\n",
    "        else:\n",
    "            print(\"Lütfen 0-100 aralığında, geçerli bir not girin.\")\n",
    "            continue\n",
    "        \n",
    "        passingGrade = midterm * (0.3) + proje * (0.3) + final * (0.4) #passing grade'lerin hesaplandığı kısım.\n",
    "        notlar.append(passingGrade)\n",
    "        \n",
    "        ogrenciler_notlar[ogrenci] = notlar\n",
    "        ogrenci_sayi += 1\n",
    "        print(\"*****************************\")\n",
    "    except:\n",
    "        print(\"Lütfen geçerli bir not girin.\")\n",
    "        print(\"*****************************\")\n",
    "\n",
    "print(ogrenciler_notlar) # Tüm öğrencilerin notları ve passing gradelerinin bulunduğu dictionary."
   ]
  },
  {
   "cell_type": "code",
   "execution_count": 3,
   "id": "innovative-assault",
   "metadata": {},
   "outputs": [
    {
     "name": "stdout",
     "output_type": "stream",
     "text": [
      "[('Mustafa', [90, 100, 95, 95.0]), ('Erdogan', [100, 90, 90, 93.0]), ('Gizem', [85, 80, 85, 83.5]), ('Merve', [70, 80, 90, 81.0]), ('Irem', [90, 60, 75, 75.0])]\n"
     ]
    }
   ],
   "source": [
    "#öğrencileri pass grade notlarına göre sıralama kısmı.\n",
    "\n",
    "sirali_ogrenci_liste = sorted(ogrenciler_notlar.items(), key = lambda x: x[1][3], reverse = True)\n",
    "print(sirali_ogrenci_liste)"
   ]
  },
  {
   "cell_type": "code",
   "execution_count": 4,
   "id": "reverse-adrian",
   "metadata": {},
   "outputs": [
    {
     "data": {
      "text/html": [
       "<div>\n",
       "<style scoped>\n",
       "    .dataframe tbody tr th:only-of-type {\n",
       "        vertical-align: middle;\n",
       "    }\n",
       "\n",
       "    .dataframe tbody tr th {\n",
       "        vertical-align: top;\n",
       "    }\n",
       "\n",
       "    .dataframe thead th {\n",
       "        text-align: right;\n",
       "    }\n",
       "</style>\n",
       "<table border=\"1\" class=\"dataframe\">\n",
       "  <thead>\n",
       "    <tr style=\"text-align: right;\">\n",
       "      <th></th>\n",
       "      <th>İsimler</th>\n",
       "      <th>Midterm Notu</th>\n",
       "      <th>Proje Notu</th>\n",
       "      <th>Final Notu</th>\n",
       "      <th>Pass Grade</th>\n",
       "    </tr>\n",
       "  </thead>\n",
       "  <tbody>\n",
       "    <tr>\n",
       "      <th>1</th>\n",
       "      <td>Mustafa</td>\n",
       "      <td>90</td>\n",
       "      <td>100</td>\n",
       "      <td>95</td>\n",
       "      <td>95.0</td>\n",
       "    </tr>\n",
       "    <tr>\n",
       "      <th>2</th>\n",
       "      <td>Erdogan</td>\n",
       "      <td>100</td>\n",
       "      <td>90</td>\n",
       "      <td>90</td>\n",
       "      <td>93.0</td>\n",
       "    </tr>\n",
       "    <tr>\n",
       "      <th>3</th>\n",
       "      <td>Gizem</td>\n",
       "      <td>85</td>\n",
       "      <td>80</td>\n",
       "      <td>85</td>\n",
       "      <td>83.5</td>\n",
       "    </tr>\n",
       "    <tr>\n",
       "      <th>4</th>\n",
       "      <td>Merve</td>\n",
       "      <td>70</td>\n",
       "      <td>80</td>\n",
       "      <td>90</td>\n",
       "      <td>81.0</td>\n",
       "    </tr>\n",
       "    <tr>\n",
       "      <th>5</th>\n",
       "      <td>Irem</td>\n",
       "      <td>90</td>\n",
       "      <td>60</td>\n",
       "      <td>75</td>\n",
       "      <td>75.0</td>\n",
       "    </tr>\n",
       "  </tbody>\n",
       "</table>\n",
       "</div>"
      ],
      "text/plain": [
       "   İsimler  Midterm Notu  Proje Notu  Final Notu  Pass Grade\n",
       "1  Mustafa            90         100          95        95.0\n",
       "2  Erdogan           100          90          90        93.0\n",
       "3    Gizem            85          80          85        83.5\n",
       "4    Merve            70          80          90        81.0\n",
       "5     Irem            90          60          75        75.0"
      ]
     },
     "execution_count": 4,
     "metadata": {},
     "output_type": "execute_result"
    }
   ],
   "source": [
    "# Notları ve pass gradeleri tablolaştırma kısmı.\n",
    "\n",
    "import pandas as pd\n",
    "\n",
    "dataset = []\n",
    "\n",
    "for i in sirali_ogrenci_liste:\n",
    "    dataset.append([i[0],i[1][0],i[1][1],i[1][2],i[1][3]]) #dataframe oluşturmak için, sıralanmış öğrenci bilgilerini\n",
    "                                                           #bir listeye aktardım.\n",
    "\n",
    "dframe = pd.DataFrame(dataset, columns = [\"İsimler\", \"Midterm Notu\", \"Proje Notu\", \"Final Notu\", \"Pass Grade\"])\n",
    "dframe.index += 1\n",
    "dframe"
   ]
  },
  {
   "cell_type": "code",
   "execution_count": null,
   "id": "owned-professor",
   "metadata": {},
   "outputs": [],
   "source": []
  }
 ],
 "metadata": {
  "kernelspec": {
   "display_name": "Python 3",
   "language": "python",
   "name": "python3"
  },
  "language_info": {
   "codemirror_mode": {
    "name": "ipython",
    "version": 3
   },
   "file_extension": ".py",
   "mimetype": "text/x-python",
   "name": "python",
   "nbconvert_exporter": "python",
   "pygments_lexer": "ipython3",
   "version": "3.7.4"
  }
 },
 "nbformat": 4,
 "nbformat_minor": 5
}
