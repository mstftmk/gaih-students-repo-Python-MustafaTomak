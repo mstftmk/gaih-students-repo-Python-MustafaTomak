{
 "cells": [
  {
   "cell_type": "markdown",
   "id": "concrete-benchmark",
   "metadata": {},
   "source": [
    "## Final Project - Knowledge Competition\n",
    "\n",
    "* Write a knowledge competition program.\n",
    "* It should consist of 10 question in total.\n",
    "* Each question will have only one answer.\n",
    "* Adjust the answer of the questions according to case sensitivity.\n",
    "* Each question should be worth 10 points.\n",
    "* If User answers 5 or fewer questions, it will be considered unsuccessful.\n",
    "* If the user answers more than 5 questions correctly, it will be considered successful."
   ]
  },
  {
   "cell_type": "code",
   "execution_count": 1,
   "id": "transsexual-bulgaria",
   "metadata": {},
   "outputs": [
    {
     "name": "stdout",
     "output_type": "stream",
     "text": [
      "\n",
      "***** 1.Soru *****\n",
      "Türkiye Cumhuriyeti'nin kurucusunun soyadı nedir?\n"
     ]
    },
    {
     "name": "stdin",
     "output_type": "stream",
     "text": [
      "Cevabınız?:  Atatürk\n"
     ]
    },
    {
     "name": "stdout",
     "output_type": "stream",
     "text": [
      "Tebrikler! Doğru cevap..\n",
      "************************\n",
      "\n",
      "***** 2.Soru *****\n",
      "İngiltere'nin başkenti neresidir?\n"
     ]
    },
    {
     "name": "stdin",
     "output_type": "stream",
     "text": [
      "Cevabınız?:  londra\n"
     ]
    },
    {
     "name": "stdout",
     "output_type": "stream",
     "text": [
      "Tebrikler! Doğru cevap..\n",
      "************************\n",
      "\n",
      "***** 3.Soru *****\n",
      "Fransa'nın başkenti neresidir?\n"
     ]
    },
    {
     "name": "stdin",
     "output_type": "stream",
     "text": [
      "Cevabınız?:  paris\n"
     ]
    },
    {
     "name": "stdout",
     "output_type": "stream",
     "text": [
      "Tebrikler! Doğru cevap..\n",
      "************************\n",
      "\n",
      "***** 4.Soru *****\n",
      "Lihtenştayn hangi kıtadadır?\n"
     ]
    },
    {
     "name": "stdin",
     "output_type": "stream",
     "text": [
      "Cevabınız?:  avrupa\n"
     ]
    },
    {
     "name": "stdout",
     "output_type": "stream",
     "text": [
      "Tebrikler! Doğru cevap..\n",
      "************************\n",
      "\n",
      "***** 5.Soru *****\n",
      "Ulubey Kanyonu hangi ilimizdedir?\n"
     ]
    },
    {
     "name": "stdin",
     "output_type": "stream",
     "text": [
      "Cevabınız?:  uşak\n"
     ]
    },
    {
     "name": "stdout",
     "output_type": "stream",
     "text": [
      "Tebrikler! Doğru cevap..\n",
      "************************\n",
      "\n",
      "***** 6.Soru *****\n",
      "Angola hangi kıtadadır?\n"
     ]
    },
    {
     "name": "stdin",
     "output_type": "stream",
     "text": [
      "Cevabınız?:  asya\n"
     ]
    },
    {
     "name": "stdout",
     "output_type": "stream",
     "text": [
      "Yanlış cevap. Doğru cevap: Afrika\n",
      "************************\n",
      "\n",
      "***** 7.Soru *****\n",
      "'E=mc^2' denklemi ile tanınan ünlü fizikçinin soyadı nedir?\n"
     ]
    },
    {
     "name": "stdin",
     "output_type": "stream",
     "text": [
      "Cevabınız?:  einstein\n"
     ]
    },
    {
     "name": "stdout",
     "output_type": "stream",
     "text": [
      "Tebrikler! Doğru cevap..\n",
      "************************\n",
      "\n",
      "***** 8.Soru *****\n",
      "'Prinicipia' isimli eserin sahibi ünlü fizikçinin soyadı nedir?\n"
     ]
    },
    {
     "name": "stdin",
     "output_type": "stream",
     "text": [
      "Cevabınız?:  newton\n"
     ]
    },
    {
     "name": "stdout",
     "output_type": "stream",
     "text": [
      "Tebrikler! Doğru cevap..\n",
      "************************\n",
      "\n",
      "***** 9.Soru *****\n",
      "İzmir hangi coğrafi bölgemizde yer almaktadır?\n"
     ]
    },
    {
     "name": "stdin",
     "output_type": "stream",
     "text": [
      "Cevabınız?:  ege bölgesi\n"
     ]
    },
    {
     "name": "stdout",
     "output_type": "stream",
     "text": [
      "Tebrikler! Doğru cevap..\n",
      "************************\n",
      "\n",
      "***** 10.Soru *****\n",
      "Atlas okyanusunu Büyük okyanusa bağlayan kanalın adı nedir?\n"
     ]
    },
    {
     "name": "stdin",
     "output_type": "stream",
     "text": [
      "Cevabınız?:  panama\n"
     ]
    },
    {
     "name": "stdout",
     "output_type": "stream",
     "text": [
      "Tebrikler! Doğru cevap..\n",
      "************************\n",
      "Puanınız: 90. Başarılı..\n"
     ]
    }
   ],
   "source": [
    "sorular = [\"Türkiye Cumhuriyeti'nin kurucusunun soyadı nedir?\",\n",
    "           \"İngiltere'nin başkenti neresidir?\",\n",
    "           \"Fransa'nın başkenti neresidir?\",\n",
    "           \"Lihtenştayn hangi kıtadadır?\",\n",
    "           \"Ulubey Kanyonu hangi ilimizdedir?\",\n",
    "           \"Angola hangi kıtadadır?\",\n",
    "           \"'E=mc^2' denklemi ile tanınan ünlü fizikçinin soyadı nedir?\",\n",
    "           \"'Prinicipia' isimli eserin sahibi ünlü fizikçinin soyadı nedir?\",\n",
    "           \"İzmir hangi coğrafi bölgemizde yer almaktadır?\",\n",
    "           \"Atlas okyanusunu Büyük okyanusa bağlayan kanalın adı nedir?\"\n",
    "          ]\n",
    "cevaplar = [\"Atatürk\",\n",
    "            \"Londra\",\n",
    "            \"Paris\",\n",
    "            \"Avrupa\",\n",
    "            \"Uşak\",\n",
    "            \"Afrika\",\n",
    "            \"Einstein\",\n",
    "            \"Newton\",\n",
    "            \"Ege Bölgesi\",\n",
    "            \"Panama\"\n",
    "           ]\n",
    "\n",
    "verilen_cevaplar= [] # bu iki listeyi kaydetmemin sebebi, en sonda dataframe oluşturmak için.\n",
    "dogru_yanlis = []\n",
    "\n",
    "puan_sayac = 0\n",
    "\n",
    "for i in range(len(sorular)):\n",
    "    print(\"\\n***** \" + str(i+1) + \".Soru *****\" )\n",
    "    print(sorular[i])\n",
    "    cevap = input(\"Cevabınız?: \")\n",
    "    if cevap.upper() == cevaplar[i].upper():\n",
    "        print(\"Tebrikler! Doğru cevap..\")\n",
    "        print(\"************************\")\n",
    "        puan_sayac += 10\n",
    "        verilen_cevaplar.append(cevap)\n",
    "        dogru_yanlis.append(\"Doğru\")\n",
    "    else:\n",
    "        print(\"Yanlış cevap. Doğru cevap: \" + cevaplar[i])\n",
    "        print(\"************************\")\n",
    "        verilen_cevaplar.append(cevap)\n",
    "        dogru_yanlis.append(\"Yanlış\")\n",
    "        \n",
    "if puan_sayac <= 50:\n",
    "    print(\"Puanınız: \" + str(puan_sayac) + \". Başarısız..\")\n",
    "elif puan_sayac < 100:\n",
    "    print(\"Puanınız: \" + str(puan_sayac)+ \". Başarılı..\")\n",
    "else:\n",
    "    print(\"Puanınız: \" + str(puan_sayac) + \". Tebrikler. Hepsi Doğru!\")"
   ]
  },
  {
   "cell_type": "code",
   "execution_count": 2,
   "id": "retired-satellite",
   "metadata": {},
   "outputs": [
    {
     "data": {
      "text/html": [
       "<div>\n",
       "<style scoped>\n",
       "    .dataframe tbody tr th:only-of-type {\n",
       "        vertical-align: middle;\n",
       "    }\n",
       "\n",
       "    .dataframe tbody tr th {\n",
       "        vertical-align: top;\n",
       "    }\n",
       "\n",
       "    .dataframe thead th {\n",
       "        text-align: right;\n",
       "    }\n",
       "</style>\n",
       "<table border=\"1\" class=\"dataframe\">\n",
       "  <thead>\n",
       "    <tr style=\"text-align: right;\">\n",
       "      <th></th>\n",
       "      <th>Doğru Cevaplar</th>\n",
       "      <th>Verilen Cevaplar</th>\n",
       "      <th>Doğru-Yanlış</th>\n",
       "    </tr>\n",
       "  </thead>\n",
       "  <tbody>\n",
       "    <tr>\n",
       "      <th>1</th>\n",
       "      <td>Atatürk</td>\n",
       "      <td>Atatürk</td>\n",
       "      <td>Doğru</td>\n",
       "    </tr>\n",
       "    <tr>\n",
       "      <th>2</th>\n",
       "      <td>Londra</td>\n",
       "      <td>londra</td>\n",
       "      <td>Doğru</td>\n",
       "    </tr>\n",
       "    <tr>\n",
       "      <th>3</th>\n",
       "      <td>Paris</td>\n",
       "      <td>paris</td>\n",
       "      <td>Doğru</td>\n",
       "    </tr>\n",
       "    <tr>\n",
       "      <th>4</th>\n",
       "      <td>Avrupa</td>\n",
       "      <td>avrupa</td>\n",
       "      <td>Doğru</td>\n",
       "    </tr>\n",
       "    <tr>\n",
       "      <th>5</th>\n",
       "      <td>Uşak</td>\n",
       "      <td>uşak</td>\n",
       "      <td>Doğru</td>\n",
       "    </tr>\n",
       "    <tr>\n",
       "      <th>6</th>\n",
       "      <td>Afrika</td>\n",
       "      <td>asya</td>\n",
       "      <td>Yanlış</td>\n",
       "    </tr>\n",
       "    <tr>\n",
       "      <th>7</th>\n",
       "      <td>Einstein</td>\n",
       "      <td>einstein</td>\n",
       "      <td>Doğru</td>\n",
       "    </tr>\n",
       "    <tr>\n",
       "      <th>8</th>\n",
       "      <td>Newton</td>\n",
       "      <td>newton</td>\n",
       "      <td>Doğru</td>\n",
       "    </tr>\n",
       "    <tr>\n",
       "      <th>9</th>\n",
       "      <td>Ege Bölgesi</td>\n",
       "      <td>ege bölgesi</td>\n",
       "      <td>Doğru</td>\n",
       "    </tr>\n",
       "    <tr>\n",
       "      <th>10</th>\n",
       "      <td>Panama</td>\n",
       "      <td>panama</td>\n",
       "      <td>Doğru</td>\n",
       "    </tr>\n",
       "  </tbody>\n",
       "</table>\n",
       "</div>"
      ],
      "text/plain": [
       "   Doğru Cevaplar Verilen Cevaplar Doğru-Yanlış\n",
       "1         Atatürk          Atatürk        Doğru\n",
       "2          Londra           londra        Doğru\n",
       "3           Paris            paris        Doğru\n",
       "4          Avrupa           avrupa        Doğru\n",
       "5            Uşak             uşak        Doğru\n",
       "6          Afrika             asya       Yanlış\n",
       "7        Einstein         einstein        Doğru\n",
       "8          Newton           newton        Doğru\n",
       "9     Ege Bölgesi      ege bölgesi        Doğru\n",
       "10         Panama           panama        Doğru"
      ]
     },
     "execution_count": 2,
     "metadata": {},
     "output_type": "execute_result"
    }
   ],
   "source": [
    "# Cevap kağıdı ve verilen cevaplar karşılaştırması.\n",
    "import pandas as pd\n",
    "\n",
    "dataset = []\n",
    "\n",
    "for i in range(len(sorular)):\n",
    "    dataset.append([cevaplar[i],verilen_cevaplar[i],dogru_yanlis[i]])\n",
    "\n",
    "dataframe = pd.DataFrame(dataset, columns = [\"Doğru Cevaplar\", \"Verilen Cevaplar\", \"Doğru-Yanlış\"])\n",
    "dataframe.index += 1\n",
    "dataframe"
   ]
  },
  {
   "cell_type": "code",
   "execution_count": null,
   "id": "breathing-cross",
   "metadata": {},
   "outputs": [],
   "source": []
  }
 ],
 "metadata": {
  "kernelspec": {
   "display_name": "Python 3",
   "language": "python",
   "name": "python3"
  },
  "language_info": {
   "codemirror_mode": {
    "name": "ipython",
    "version": 3
   },
   "file_extension": ".py",
   "mimetype": "text/x-python",
   "name": "python",
   "nbconvert_exporter": "python",
   "pygments_lexer": "ipython3",
   "version": "3.7.4"
  }
 },
 "nbformat": 4,
 "nbformat_minor": 5
}
